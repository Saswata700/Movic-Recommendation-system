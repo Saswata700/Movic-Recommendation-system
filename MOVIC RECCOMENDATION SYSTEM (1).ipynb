{
 "cells": [
  {
   "cell_type": "markdown",
   "metadata": {},
   "source": [
    "# Movic Reccomendation"
   ]
  },
  {
   "cell_type": "raw",
   "metadata": {},
   "source": [
    "Saswata Paul Choudhury"
   ]
  },
  {
   "cell_type": "markdown",
   "metadata": {},
   "source": [
    "# Data exploration"
   ]
  },
  {
   "cell_type": "code",
   "execution_count": null,
   "metadata": {},
   "outputs": [],
   "source": [
    "# Library Importing"
   ]
  },
  {
   "cell_type": "code",
   "execution_count": 7,
   "metadata": {},
   "outputs": [],
   "source": [
    "library(recommenderlab) #for recommendetion"
   ]
  },
  {
   "cell_type": "code",
   "execution_count": 2,
   "metadata": {},
   "outputs": [],
   "source": [
    "library(reshape2)"
   ]
  },
  {
   "cell_type": "code",
   "execution_count": 5,
   "metadata": {},
   "outputs": [],
   "source": [
    "library(data.table)"
   ]
  },
  {
   "cell_type": "code",
   "execution_count": 6,
   "metadata": {},
   "outputs": [],
   "source": [
    "library(ggplot2) #for visualization"
   ]
  },
  {
   "cell_type": "code",
   "execution_count": 5,
   "metadata": {},
   "outputs": [],
   "source": [
    "# Retriverving the data"
   ]
  },
  {
   "cell_type": "code",
   "execution_count": 40,
   "metadata": {},
   "outputs": [],
   "source": [
    "movie_data<-read.csv(\"C:/Users/user/Downloads/movies.txt\",stringsAsFactors=FALSE)"
   ]
  },
  {
   "cell_type": "code",
   "execution_count": 41,
   "metadata": {},
   "outputs": [],
   "source": [
    "rating_data<-read.csv(\"C:/Users/user/Downloads/ratings.txt\")"
   ]
  },
  {
   "cell_type": "code",
   "execution_count": 42,
   "metadata": {},
   "outputs": [
    {
     "name": "stdout",
     "output_type": "stream",
     "text": [
      "'data.frame':\t10329 obs. of  3 variables:\n",
      " $ movieId: int  1 2 3 4 5 6 7 8 9 10 ...\n",
      " $ title  : chr  \"Toy Story (1995)\" \"Jumanji (1995)\" \"Grumpier Old Men (1995)\" \"Waiting to Exhale (1995)\" ...\n",
      " $ genres : chr  \"Adventure|Animation|Children|Comedy|Fantasy\" \"Adventure|Children|Fantasy\" \"Comedy|Romance\" \"Comedy|Drama|Romance\" ...\n",
      "'data.frame':\t105339 obs. of  4 variables:\n",
      " $ userId   : int  1 1 1 1 1 1 1 1 1 1 ...\n",
      " $ movieId  : int  16 24 32 47 50 110 150 161 165 204 ...\n",
      " $ rating   : num  4 1.5 4 4 4 4 3 4 3 0.5 ...\n",
      " $ timestamp: int  1217897793 1217895807 1217896246 1217896556 1217896523 1217896150 1217895940 1217897864 1217897135 1217895786 ...\n"
     ]
    }
   ],
   "source": [
    "#Structure\n",
    "str(movie_data)\n",
    "str(rating_data)"
   ]
  },
  {
   "cell_type": "code",
   "execution_count": 9,
   "metadata": {},
   "outputs": [],
   "source": [
    "#View"
   ]
  },
  {
   "cell_type": "code",
   "execution_count": 43,
   "metadata": {},
   "outputs": [
    {
     "data": {
      "text/html": [
       "<table>\n",
       "<thead><tr><th scope=col>movieId</th><th scope=col>title</th><th scope=col>genres</th></tr></thead>\n",
       "<tbody>\n",
       "\t<tr><td>1                                          </td><td>Toy Story (1995)                           </td><td>Adventure|Animation|Children|Comedy|Fantasy</td></tr>\n",
       "\t<tr><td>2                                          </td><td>Jumanji (1995)                             </td><td>Adventure|Children|Fantasy                 </td></tr>\n",
       "\t<tr><td>3                                          </td><td>Grumpier Old Men (1995)                    </td><td>Comedy|Romance                             </td></tr>\n",
       "\t<tr><td>4                                          </td><td>Waiting to Exhale (1995)                   </td><td>Comedy|Drama|Romance                       </td></tr>\n",
       "\t<tr><td>5                                          </td><td>Father of the Bride Part II (1995)         </td><td>Comedy                                     </td></tr>\n",
       "\t<tr><td>6                                          </td><td>Heat (1995)                                </td><td>Action|Crime|Thriller                      </td></tr>\n",
       "</tbody>\n",
       "</table>\n"
      ],
      "text/latex": [
       "\\begin{tabular}{r|lll}\n",
       " movieId & title & genres\\\\\n",
       "\\hline\n",
       "\t 1                                                                                   & Toy Story (1995)                                                                    & Adventure\\textbar{}Animation\\textbar{}Children\\textbar{}Comedy\\textbar{}Fantasy\\\\\n",
       "\t 2                                                               & Jumanji (1995)                                                  & Adventure\\textbar{}Children\\textbar{}Fantasy                 \\\\\n",
       "\t 3                                                     & Grumpier Old Men (1995)                               & Comedy\\textbar{}Romance                             \\\\\n",
       "\t 4                                                               & Waiting to Exhale (1995)                                        & Comedy\\textbar{}Drama\\textbar{}Romance                       \\\\\n",
       "\t 5                                           & Father of the Bride Part II (1995)          & Comedy                                     \\\\\n",
       "\t 6                                                               & Heat (1995)                                                     & Action\\textbar{}Crime\\textbar{}Thriller                      \\\\\n",
       "\\end{tabular}\n"
      ],
      "text/markdown": [
       "\n",
       "| movieId | title | genres |\n",
       "|---|---|---|\n",
       "| 1                                           | Toy Story (1995)                            | Adventure|Animation|Children|Comedy|Fantasy |\n",
       "| 2                                           | Jumanji (1995)                              | Adventure|Children|Fantasy                  |\n",
       "| 3                                           | Grumpier Old Men (1995)                     | Comedy|Romance                              |\n",
       "| 4                                           | Waiting to Exhale (1995)                    | Comedy|Drama|Romance                        |\n",
       "| 5                                           | Father of the Bride Part II (1995)          | Comedy                                      |\n",
       "| 6                                           | Heat (1995)                                 | Action|Crime|Thriller                       |\n",
       "\n"
      ],
      "text/plain": [
       "  movieId title                             \n",
       "1 1       Toy Story (1995)                  \n",
       "2 2       Jumanji (1995)                    \n",
       "3 3       Grumpier Old Men (1995)           \n",
       "4 4       Waiting to Exhale (1995)          \n",
       "5 5       Father of the Bride Part II (1995)\n",
       "6 6       Heat (1995)                       \n",
       "  genres                                     \n",
       "1 Adventure|Animation|Children|Comedy|Fantasy\n",
       "2 Adventure|Children|Fantasy                 \n",
       "3 Comedy|Romance                             \n",
       "4 Comedy|Drama|Romance                       \n",
       "5 Comedy                                     \n",
       "6 Action|Crime|Thriller                      "
      ]
     },
     "metadata": {},
     "output_type": "display_data"
    }
   ],
   "source": [
    "head(movie_data)"
   ]
  },
  {
   "cell_type": "code",
   "execution_count": 11,
   "metadata": {},
   "outputs": [
    {
     "data": {
      "text/html": [
       "<table>\n",
       "<thead><tr><th scope=col>userId</th><th scope=col>movieId</th><th scope=col>rating</th><th scope=col>timestamp</th></tr></thead>\n",
       "<tbody>\n",
       "\t<tr><td>1         </td><td> 16       </td><td>4.0       </td><td>1217897793</td></tr>\n",
       "\t<tr><td>1         </td><td> 24       </td><td>1.5       </td><td>1217895807</td></tr>\n",
       "\t<tr><td>1         </td><td> 32       </td><td>4.0       </td><td>1217896246</td></tr>\n",
       "\t<tr><td>1         </td><td> 47       </td><td>4.0       </td><td>1217896556</td></tr>\n",
       "\t<tr><td>1         </td><td> 50       </td><td>4.0       </td><td>1217896523</td></tr>\n",
       "\t<tr><td>1         </td><td>110       </td><td>4.0       </td><td>1217896150</td></tr>\n",
       "</tbody>\n",
       "</table>\n"
      ],
      "text/latex": [
       "\\begin{tabular}{r|llll}\n",
       " userId & movieId & rating & timestamp\\\\\n",
       "\\hline\n",
       "\t 1          &  16        & 4.0        & 1217897793\\\\\n",
       "\t 1          &  24        & 1.5        & 1217895807\\\\\n",
       "\t 1          &  32        & 4.0        & 1217896246\\\\\n",
       "\t 1          &  47        & 4.0        & 1217896556\\\\\n",
       "\t 1          &  50        & 4.0        & 1217896523\\\\\n",
       "\t 1          & 110        & 4.0        & 1217896150\\\\\n",
       "\\end{tabular}\n"
      ],
      "text/markdown": [
       "\n",
       "| userId | movieId | rating | timestamp |\n",
       "|---|---|---|---|\n",
       "| 1          |  16        | 4.0        | 1217897793 |\n",
       "| 1          |  24        | 1.5        | 1217895807 |\n",
       "| 1          |  32        | 4.0        | 1217896246 |\n",
       "| 1          |  47        | 4.0        | 1217896556 |\n",
       "| 1          |  50        | 4.0        | 1217896523 |\n",
       "| 1          | 110        | 4.0        | 1217896150 |\n",
       "\n"
      ],
      "text/plain": [
       "  userId movieId rating timestamp \n",
       "1 1       16     4.0    1217897793\n",
       "2 1       24     1.5    1217895807\n",
       "3 1       32     4.0    1217896246\n",
       "4 1       47     4.0    1217896556\n",
       "5 1       50     4.0    1217896523\n",
       "6 1      110     4.0    1217896150"
      ]
     },
     "metadata": {},
     "output_type": "display_data"
    }
   ],
   "source": [
    "head(rating_data)"
   ]
  },
  {
   "cell_type": "code",
   "execution_count": 44,
   "metadata": {},
   "outputs": [
    {
     "data": {
      "text/plain": [
       "    movieId          title              genres         \n",
       " Min.   :     1   Length:10329       Length:10329      \n",
       " 1st Qu.:  3240   Class :character   Class :character  \n",
       " Median :  7088   Mode  :character   Mode  :character  \n",
       " Mean   : 31924                                        \n",
       " 3rd Qu.: 59900                                        \n",
       " Max.   :149532                                        "
      ]
     },
     "metadata": {},
     "output_type": "display_data"
    }
   ],
   "source": [
    "#summary\n",
    "summary(movie_data)"
   ]
  },
  {
   "cell_type": "code",
   "execution_count": 13,
   "metadata": {},
   "outputs": [
    {
     "data": {
      "text/plain": [
       "     userId         movieId           rating        timestamp        \n",
       " Min.   :  1.0   Min.   :     1   Min.   :0.500   Min.   :8.286e+08  \n",
       " 1st Qu.:192.0   1st Qu.:  1073   1st Qu.:3.000   1st Qu.:9.711e+08  \n",
       " Median :383.0   Median :  2497   Median :3.500   Median :1.115e+09  \n",
       " Mean   :364.9   Mean   : 13381   Mean   :3.517   Mean   :1.130e+09  \n",
       " 3rd Qu.:557.0   3rd Qu.:  5991   3rd Qu.:4.000   3rd Qu.:1.275e+09  \n",
       " Max.   :668.0   Max.   :149532   Max.   :5.000   Max.   :1.452e+09  "
      ]
     },
     "metadata": {},
     "output_type": "display_data"
    }
   ],
   "source": [
    "summary(rating_data)"
   ]
  },
  {
   "cell_type": "markdown",
   "metadata": {},
   "source": [
    "# genere manupulation"
   ]
  },
  {
   "cell_type": "code",
   "execution_count": 45,
   "metadata": {},
   "outputs": [],
   "source": [
    "movie_genre=as.data.frame(movie_data$genres,stringsAsFactors=FALSE)"
   ]
  },
  {
   "cell_type": "code",
   "execution_count": 46,
   "metadata": {},
   "outputs": [],
   "source": [
    "movie_genre2=as.data.frame(tstrsplit(movie_genre[,1],\"[|]\",type.convert=TRUE),stringAsFactor=FALSE)"
   ]
  },
  {
   "cell_type": "code",
   "execution_count": 47,
   "metadata": {},
   "outputs": [],
   "source": [
    "colnames(movie_genre2)<-c(1:10)"
   ]
  },
  {
   "cell_type": "code",
   "execution_count": 48,
   "metadata": {},
   "outputs": [],
   "source": [
    "list_genre<-c(\"Action\",\"Adventure\",\"Animation\",\"Children\",\"Comedy\",\"Crime\",\"Documentary\",\"Drama\",\"Fantasy\",\n",
    "              \"Flim-Noir\",\"Horror\",\"Musical\",\"Mystrey\",\"Romance\",\"Sci-Fi\",\"Thriller\",\"War\",\"Western\")"
   ]
  },
  {
   "cell_type": "code",
   "execution_count": 49,
   "metadata": {},
   "outputs": [
    {
     "name": "stdout",
     "output_type": "stream",
     "text": [
      "'data.frame':\t10329 obs. of  18 variables:\n",
      " $ Action     : int  0 0 0 0 0 1 0 0 1 1 ...\n",
      " $ Adventure  : int  1 1 0 0 0 0 0 1 0 1 ...\n",
      " $ Animation  : int  1 0 0 0 0 0 0 0 0 0 ...\n",
      " $ Children   : int  1 1 0 0 0 0 0 1 0 0 ...\n",
      " $ Comedy     : int  1 0 1 1 1 0 1 0 0 0 ...\n",
      " $ Crime      : int  0 0 0 0 0 1 0 0 0 0 ...\n",
      " $ Documentary: int  0 0 0 0 0 0 0 0 0 0 ...\n",
      " $ Drama      : int  0 0 0 1 0 0 0 0 0 0 ...\n",
      " $ Fantasy    : int  1 1 0 0 0 0 0 0 0 0 ...\n",
      " $ Flim-Noir  : int  0 0 0 0 0 0 0 0 0 0 ...\n",
      " $ Horror     : int  0 0 0 0 0 0 0 0 0 0 ...\n",
      " $ Musical    : int  0 0 0 0 0 0 0 0 0 0 ...\n",
      " $ Mystrey    : int  0 0 0 0 0 0 0 0 0 0 ...\n",
      " $ Romance    : int  0 0 1 1 0 0 1 0 0 0 ...\n",
      " $ Sci-Fi     : int  0 0 0 0 0 0 0 0 0 0 ...\n",
      " $ Thriller   : int  0 0 0 0 0 1 0 0 0 1 ...\n",
      " $ War        : int  0 0 0 0 0 0 0 0 0 0 ...\n",
      " $ Western    : int  0 0 0 0 0 0 0 0 0 0 ...\n"
     ]
    }
   ],
   "source": [
    "genre_matl=matrix(0,10330,18)\n",
    "genre_matl[1,]<-list_genre\n",
    "colnames(genre_matl)<-list_genre\n",
    "for(index in 1:nrow(movie_genre2)){\n",
    "    for(col in 1:ncol(movie_genre2)){\n",
    "        gen_col=which(genre_matl[1,]==movie_genre2[index,col])\n",
    "        genre_matl[index+1,gen_col]<-1\n",
    "    }\n",
    "}\n",
    "genre_mat2<-as.data.frame(genre_matl[-1,],stringsAsFactors=FALSE)\n",
    "for(col in 1:ncol(genre_mat2)){\n",
    "    genre_mat2[,col]<-as.integer(genre_mat2[,col])\n",
    "}\n",
    "str(genre_mat2)"
   ]
  },
  {
   "cell_type": "code",
   "execution_count": 22,
   "metadata": {},
   "outputs": [],
   "source": [
    "#create a search matrix that gives the films based on genres"
   ]
  },
  {
   "cell_type": "code",
   "execution_count": 50,
   "metadata": {},
   "outputs": [
    {
     "data": {
      "text/html": [
       "<table>\n",
       "<thead><tr><th scope=col>movieId</th><th scope=col>title</th><th scope=col>Action</th><th scope=col>Adventure</th><th scope=col>Animation</th><th scope=col>Children</th><th scope=col>Comedy</th><th scope=col>Crime</th><th scope=col>Documentary</th><th scope=col>Drama</th><th scope=col>Fantasy</th><th scope=col>Flim-Noir</th><th scope=col>Horror</th><th scope=col>Musical</th><th scope=col>Mystrey</th><th scope=col>Romance</th><th scope=col>Sci-Fi</th><th scope=col>Thriller</th><th scope=col>War</th><th scope=col>Western</th></tr></thead>\n",
       "<tbody>\n",
       "\t<tr><td>1                                 </td><td>Toy Story (1995)                  </td><td>0                                 </td><td>1                                 </td><td>1                                 </td><td>1                                 </td><td>1                                 </td><td>0                                 </td><td>0                                 </td><td>0                                 </td><td>1                                 </td><td>0                                 </td><td>0                                 </td><td>0                                 </td><td>0                                 </td><td>0                                 </td><td>0                                 </td><td>0                                 </td><td>0                                 </td><td>0                                 </td></tr>\n",
       "\t<tr><td>2                                 </td><td>Jumanji (1995)                    </td><td>0                                 </td><td>1                                 </td><td>0                                 </td><td>1                                 </td><td>0                                 </td><td>0                                 </td><td>0                                 </td><td>0                                 </td><td>1                                 </td><td>0                                 </td><td>0                                 </td><td>0                                 </td><td>0                                 </td><td>0                                 </td><td>0                                 </td><td>0                                 </td><td>0                                 </td><td>0                                 </td></tr>\n",
       "\t<tr><td>3                                 </td><td>Grumpier Old Men (1995)           </td><td>0                                 </td><td>0                                 </td><td>0                                 </td><td>0                                 </td><td>1                                 </td><td>0                                 </td><td>0                                 </td><td>0                                 </td><td>0                                 </td><td>0                                 </td><td>0                                 </td><td>0                                 </td><td>0                                 </td><td>1                                 </td><td>0                                 </td><td>0                                 </td><td>0                                 </td><td>0                                 </td></tr>\n",
       "\t<tr><td>4                                 </td><td>Waiting to Exhale (1995)          </td><td>0                                 </td><td>0                                 </td><td>0                                 </td><td>0                                 </td><td>1                                 </td><td>0                                 </td><td>0                                 </td><td>1                                 </td><td>0                                 </td><td>0                                 </td><td>0                                 </td><td>0                                 </td><td>0                                 </td><td>1                                 </td><td>0                                 </td><td>0                                 </td><td>0                                 </td><td>0                                 </td></tr>\n",
       "\t<tr><td>5                                 </td><td>Father of the Bride Part II (1995)</td><td>0                                 </td><td>0                                 </td><td>0                                 </td><td>0                                 </td><td>1                                 </td><td>0                                 </td><td>0                                 </td><td>0                                 </td><td>0                                 </td><td>0                                 </td><td>0                                 </td><td>0                                 </td><td>0                                 </td><td>0                                 </td><td>0                                 </td><td>0                                 </td><td>0                                 </td><td>0                                 </td></tr>\n",
       "\t<tr><td>6                                 </td><td>Heat (1995)                       </td><td>1                                 </td><td>0                                 </td><td>0                                 </td><td>0                                 </td><td>0                                 </td><td>1                                 </td><td>0                                 </td><td>0                                 </td><td>0                                 </td><td>0                                 </td><td>0                                 </td><td>0                                 </td><td>0                                 </td><td>0                                 </td><td>0                                 </td><td>1                                 </td><td>0                                 </td><td>0                                 </td></tr>\n",
       "</tbody>\n",
       "</table>\n"
      ],
      "text/latex": [
       "\\begin{tabular}{r|llllllllllllllllllll}\n",
       " movieId & title & Action & Adventure & Animation & Children & Comedy & Crime & Documentary & Drama & Fantasy & Flim-Noir & Horror & Musical & Mystrey & Romance & Sci-Fi & Thriller & War & Western\\\\\n",
       "\\hline\n",
       "\t 1                                  & Toy Story (1995)                   & 0                                  & 1                                  & 1                                  & 1                                  & 1                                  & 0                                  & 0                                  & 0                                  & 1                                  & 0                                  & 0                                  & 0                                  & 0                                  & 0                                  & 0                                  & 0                                  & 0                                  & 0                                 \\\\\n",
       "\t 2                                  & Jumanji (1995)                     & 0                                  & 1                                  & 0                                  & 1                                  & 0                                  & 0                                  & 0                                  & 0                                  & 1                                  & 0                                  & 0                                  & 0                                  & 0                                  & 0                                  & 0                                  & 0                                  & 0                                  & 0                                 \\\\\n",
       "\t 3                                  & Grumpier Old Men (1995)            & 0                                  & 0                                  & 0                                  & 0                                  & 1                                  & 0                                  & 0                                  & 0                                  & 0                                  & 0                                  & 0                                  & 0                                  & 0                                  & 1                                  & 0                                  & 0                                  & 0                                  & 0                                 \\\\\n",
       "\t 4                                  & Waiting to Exhale (1995)           & 0                                  & 0                                  & 0                                  & 0                                  & 1                                  & 0                                  & 0                                  & 1                                  & 0                                  & 0                                  & 0                                  & 0                                  & 0                                  & 1                                  & 0                                  & 0                                  & 0                                  & 0                                 \\\\\n",
       "\t 5                                  & Father of the Bride Part II (1995) & 0                                  & 0                                  & 0                                  & 0                                  & 1                                  & 0                                  & 0                                  & 0                                  & 0                                  & 0                                  & 0                                  & 0                                  & 0                                  & 0                                  & 0                                  & 0                                  & 0                                  & 0                                 \\\\\n",
       "\t 6                                  & Heat (1995)                        & 1                                  & 0                                  & 0                                  & 0                                  & 0                                  & 1                                  & 0                                  & 0                                  & 0                                  & 0                                  & 0                                  & 0                                  & 0                                  & 0                                  & 0                                  & 1                                  & 0                                  & 0                                 \\\\\n",
       "\\end{tabular}\n"
      ],
      "text/markdown": [
       "\n",
       "| movieId | title | Action | Adventure | Animation | Children | Comedy | Crime | Documentary | Drama | Fantasy | Flim-Noir | Horror | Musical | Mystrey | Romance | Sci-Fi | Thriller | War | Western |\n",
       "|---|---|---|---|---|---|---|---|---|---|---|---|---|---|---|---|---|---|---|---|\n",
       "| 1                                  | Toy Story (1995)                   | 0                                  | 1                                  | 1                                  | 1                                  | 1                                  | 0                                  | 0                                  | 0                                  | 1                                  | 0                                  | 0                                  | 0                                  | 0                                  | 0                                  | 0                                  | 0                                  | 0                                  | 0                                  |\n",
       "| 2                                  | Jumanji (1995)                     | 0                                  | 1                                  | 0                                  | 1                                  | 0                                  | 0                                  | 0                                  | 0                                  | 1                                  | 0                                  | 0                                  | 0                                  | 0                                  | 0                                  | 0                                  | 0                                  | 0                                  | 0                                  |\n",
       "| 3                                  | Grumpier Old Men (1995)            | 0                                  | 0                                  | 0                                  | 0                                  | 1                                  | 0                                  | 0                                  | 0                                  | 0                                  | 0                                  | 0                                  | 0                                  | 0                                  | 1                                  | 0                                  | 0                                  | 0                                  | 0                                  |\n",
       "| 4                                  | Waiting to Exhale (1995)           | 0                                  | 0                                  | 0                                  | 0                                  | 1                                  | 0                                  | 0                                  | 1                                  | 0                                  | 0                                  | 0                                  | 0                                  | 0                                  | 1                                  | 0                                  | 0                                  | 0                                  | 0                                  |\n",
       "| 5                                  | Father of the Bride Part II (1995) | 0                                  | 0                                  | 0                                  | 0                                  | 1                                  | 0                                  | 0                                  | 0                                  | 0                                  | 0                                  | 0                                  | 0                                  | 0                                  | 0                                  | 0                                  | 0                                  | 0                                  | 0                                  |\n",
       "| 6                                  | Heat (1995)                        | 1                                  | 0                                  | 0                                  | 0                                  | 0                                  | 1                                  | 0                                  | 0                                  | 0                                  | 0                                  | 0                                  | 0                                  | 0                                  | 0                                  | 0                                  | 1                                  | 0                                  | 0                                  |\n",
       "\n"
      ],
      "text/plain": [
       "  movieId title                              Action Adventure Animation\n",
       "1 1       Toy Story (1995)                   0      1         1        \n",
       "2 2       Jumanji (1995)                     0      1         0        \n",
       "3 3       Grumpier Old Men (1995)            0      0         0        \n",
       "4 4       Waiting to Exhale (1995)           0      0         0        \n",
       "5 5       Father of the Bride Part II (1995) 0      0         0        \n",
       "6 6       Heat (1995)                        1      0         0        \n",
       "  Children Comedy Crime Documentary Drama Fantasy Flim-Noir Horror Musical\n",
       "1 1        1      0     0           0     1       0         0      0      \n",
       "2 1        0      0     0           0     1       0         0      0      \n",
       "3 0        1      0     0           0     0       0         0      0      \n",
       "4 0        1      0     0           1     0       0         0      0      \n",
       "5 0        1      0     0           0     0       0         0      0      \n",
       "6 0        0      1     0           0     0       0         0      0      \n",
       "  Mystrey Romance Sci-Fi Thriller War Western\n",
       "1 0       0       0      0        0   0      \n",
       "2 0       0       0      0        0   0      \n",
       "3 0       1       0      0        0   0      \n",
       "4 0       1       0      0        0   0      \n",
       "5 0       0       0      0        0   0      \n",
       "6 0       0       0      1        0   0      "
      ]
     },
     "metadata": {},
     "output_type": "display_data"
    }
   ],
   "source": [
    "searchMovie<-cbind(movie_data[,1:2],genre_mat2[])\n",
    "head(searchMovie)"
   ]
  },
  {
   "cell_type": "code",
   "execution_count": 24,
   "metadata": {},
   "outputs": [],
   "source": [
    "#many movic has several genre\n",
    "# making Sparse matrix for reccomendation"
   ]
  },
  {
   "cell_type": "code",
   "execution_count": 51,
   "metadata": {},
   "outputs": [
    {
     "data": {
      "text/html": [
       "<ol class=list-inline>\n",
       "\t<li>'HYBRID_realRatingMatrix'</li>\n",
       "\t<li>'HYBRID_binaryRatingMatrix'</li>\n",
       "\t<li>'ALS_realRatingMatrix'</li>\n",
       "\t<li>'ALS_implicit_realRatingMatrix'</li>\n",
       "\t<li>'ALS_implicit_binaryRatingMatrix'</li>\n",
       "\t<li>'AR_binaryRatingMatrix'</li>\n",
       "\t<li>'IBCF_binaryRatingMatrix'</li>\n",
       "\t<li>'IBCF_realRatingMatrix'</li>\n",
       "\t<li>'LIBMF_realRatingMatrix'</li>\n",
       "\t<li>'POPULAR_binaryRatingMatrix'</li>\n",
       "\t<li>'POPULAR_realRatingMatrix'</li>\n",
       "\t<li>'RANDOM_realRatingMatrix'</li>\n",
       "\t<li>'RANDOM_binaryRatingMatrix'</li>\n",
       "\t<li>'RERECOMMEND_realRatingMatrix'</li>\n",
       "\t<li>'RERECOMMEND_binaryRatingMatrix'</li>\n",
       "\t<li>'SVD_realRatingMatrix'</li>\n",
       "\t<li>'SVDF_realRatingMatrix'</li>\n",
       "\t<li>'UBCF_binaryRatingMatrix'</li>\n",
       "\t<li>'UBCF_realRatingMatrix'</li>\n",
       "</ol>\n"
      ],
      "text/latex": [
       "\\begin{enumerate*}\n",
       "\\item 'HYBRID\\_realRatingMatrix'\n",
       "\\item 'HYBRID\\_binaryRatingMatrix'\n",
       "\\item 'ALS\\_realRatingMatrix'\n",
       "\\item 'ALS\\_implicit\\_realRatingMatrix'\n",
       "\\item 'ALS\\_implicit\\_binaryRatingMatrix'\n",
       "\\item 'AR\\_binaryRatingMatrix'\n",
       "\\item 'IBCF\\_binaryRatingMatrix'\n",
       "\\item 'IBCF\\_realRatingMatrix'\n",
       "\\item 'LIBMF\\_realRatingMatrix'\n",
       "\\item 'POPULAR\\_binaryRatingMatrix'\n",
       "\\item 'POPULAR\\_realRatingMatrix'\n",
       "\\item 'RANDOM\\_realRatingMatrix'\n",
       "\\item 'RANDOM\\_binaryRatingMatrix'\n",
       "\\item 'RERECOMMEND\\_realRatingMatrix'\n",
       "\\item 'RERECOMMEND\\_binaryRatingMatrix'\n",
       "\\item 'SVD\\_realRatingMatrix'\n",
       "\\item 'SVDF\\_realRatingMatrix'\n",
       "\\item 'UBCF\\_binaryRatingMatrix'\n",
       "\\item 'UBCF\\_realRatingMatrix'\n",
       "\\end{enumerate*}\n"
      ],
      "text/markdown": [
       "1. 'HYBRID_realRatingMatrix'\n",
       "2. 'HYBRID_binaryRatingMatrix'\n",
       "3. 'ALS_realRatingMatrix'\n",
       "4. 'ALS_implicit_realRatingMatrix'\n",
       "5. 'ALS_implicit_binaryRatingMatrix'\n",
       "6. 'AR_binaryRatingMatrix'\n",
       "7. 'IBCF_binaryRatingMatrix'\n",
       "8. 'IBCF_realRatingMatrix'\n",
       "9. 'LIBMF_realRatingMatrix'\n",
       "10. 'POPULAR_binaryRatingMatrix'\n",
       "11. 'POPULAR_realRatingMatrix'\n",
       "12. 'RANDOM_realRatingMatrix'\n",
       "13. 'RANDOM_binaryRatingMatrix'\n",
       "14. 'RERECOMMEND_realRatingMatrix'\n",
       "15. 'RERECOMMEND_binaryRatingMatrix'\n",
       "16. 'SVD_realRatingMatrix'\n",
       "17. 'SVDF_realRatingMatrix'\n",
       "18. 'UBCF_binaryRatingMatrix'\n",
       "19. 'UBCF_realRatingMatrix'\n",
       "\n",
       "\n"
      ],
      "text/plain": [
       " [1] \"HYBRID_realRatingMatrix\"         \"HYBRID_binaryRatingMatrix\"      \n",
       " [3] \"ALS_realRatingMatrix\"            \"ALS_implicit_realRatingMatrix\"  \n",
       " [5] \"ALS_implicit_binaryRatingMatrix\" \"AR_binaryRatingMatrix\"          \n",
       " [7] \"IBCF_binaryRatingMatrix\"         \"IBCF_realRatingMatrix\"          \n",
       " [9] \"LIBMF_realRatingMatrix\"          \"POPULAR_binaryRatingMatrix\"     \n",
       "[11] \"POPULAR_realRatingMatrix\"        \"RANDOM_realRatingMatrix\"        \n",
       "[13] \"RANDOM_binaryRatingMatrix\"       \"RERECOMMEND_realRatingMatrix\"   \n",
       "[15] \"RERECOMMEND_binaryRatingMatrix\"  \"SVD_realRatingMatrix\"           \n",
       "[17] \"SVDF_realRatingMatrix\"           \"UBCF_binaryRatingMatrix\"        \n",
       "[19] \"UBCF_realRatingMatrix\"          "
      ]
     },
     "metadata": {},
     "output_type": "display_data"
    }
   ],
   "source": [
    "ratingMatrix=dcast(rating_data,userId~movieId,value.var=\"rating\",na.rm=FALSE,)\n",
    "ratingMatrix=as.matrix(ratingMatrix[,-1]) #no need for user id\n",
    "#converting rating matrix into a recommenadation lab sparise matrix\n",
    "ratingMatrix=as(ratingMatrix,\"realRatingMatrix\")\n",
    "#recommendation model\n",
    "recommendation_model=recommenderRegistry$get_entries(dataYype=\"realRatingMatrix\")\n",
    "names(recommendation_model)"
   ]
  },
  {
   "cell_type": "code",
   "execution_count": 52,
   "metadata": {},
   "outputs": [
    {
     "data": {
      "text/html": [
       "<dl>\n",
       "\t<dt>$HYBRID_realRatingMatrix</dt>\n",
       "\t\t<dd>'Hybrid recommender that aggegates several recommendation strategies using weighted averages.'</dd>\n",
       "\t<dt>$HYBRID_binaryRatingMatrix</dt>\n",
       "\t\t<dd>'Hybrid recommender that aggegates several recommendation strategies using weighted averages.'</dd>\n",
       "\t<dt>$ALS_realRatingMatrix</dt>\n",
       "\t\t<dd>'Recommender for explicit ratings based on latent factors, calculated by alternating least squares algorithm.'</dd>\n",
       "\t<dt>$ALS_implicit_realRatingMatrix</dt>\n",
       "\t\t<dd>'Recommender for implicit data based on latent factors, calculated by alternating least squares algorithm.'</dd>\n",
       "\t<dt>$ALS_implicit_binaryRatingMatrix</dt>\n",
       "\t\t<dd>'Recommender for implicit data based on latent factors, calculated by alternating least squares algorithm.'</dd>\n",
       "\t<dt>$AR_binaryRatingMatrix</dt>\n",
       "\t\t<dd>'Recommender based on association rules.'</dd>\n",
       "\t<dt>$IBCF_binaryRatingMatrix</dt>\n",
       "\t\t<dd>'Recommender based on item-based collaborative filtering (binary rating data).'</dd>\n",
       "\t<dt>$IBCF_realRatingMatrix</dt>\n",
       "\t\t<dd>'Recommender based on item-based collaborative filtering.'</dd>\n",
       "\t<dt>$LIBMF_realRatingMatrix</dt>\n",
       "\t\t<dd>'Matrix factorization with LIBMF via package recosystem (https://cran.r-project.org/web/packages/recosystem/vignettes/introduction.html).'</dd>\n",
       "\t<dt>$POPULAR_binaryRatingMatrix</dt>\n",
       "\t\t<dd>'Recommender based on item popularity.'</dd>\n",
       "\t<dt>$POPULAR_realRatingMatrix</dt>\n",
       "\t\t<dd>'Recommender based on item popularity.'</dd>\n",
       "\t<dt>$RANDOM_realRatingMatrix</dt>\n",
       "\t\t<dd>'Produce random recommendations (real ratings).'</dd>\n",
       "\t<dt>$RANDOM_binaryRatingMatrix</dt>\n",
       "\t\t<dd>'Produce random recommendations (binary ratings).'</dd>\n",
       "\t<dt>$RERECOMMEND_realRatingMatrix</dt>\n",
       "\t\t<dd>'Re-recommends highly rated items (real ratings).'</dd>\n",
       "\t<dt>$RERECOMMEND_binaryRatingMatrix</dt>\n",
       "\t\t<dd>'Re-recommends items (binary ratings).'</dd>\n",
       "\t<dt>$SVD_realRatingMatrix</dt>\n",
       "\t\t<dd>'Recommender based on SVD approximation with column-mean imputation.'</dd>\n",
       "\t<dt>$SVDF_realRatingMatrix</dt>\n",
       "\t\t<dd>'Recommender based on Funk SVD with gradient descend (https://sifter.org/~simon/journal/20061211.html).'</dd>\n",
       "\t<dt>$UBCF_binaryRatingMatrix</dt>\n",
       "\t\t<dd>'Recommender based on user-based collaborative filtering.'</dd>\n",
       "\t<dt>$UBCF_realRatingMatrix</dt>\n",
       "\t\t<dd>'Recommender based on user-based collaborative filtering.'</dd>\n",
       "</dl>\n"
      ],
      "text/latex": [
       "\\begin{description}\n",
       "\\item[\\$HYBRID\\_realRatingMatrix] 'Hybrid recommender that aggegates several recommendation strategies using weighted averages.'\n",
       "\\item[\\$HYBRID\\_binaryRatingMatrix] 'Hybrid recommender that aggegates several recommendation strategies using weighted averages.'\n",
       "\\item[\\$ALS\\_realRatingMatrix] 'Recommender for explicit ratings based on latent factors, calculated by alternating least squares algorithm.'\n",
       "\\item[\\$ALS\\_implicit\\_realRatingMatrix] 'Recommender for implicit data based on latent factors, calculated by alternating least squares algorithm.'\n",
       "\\item[\\$ALS\\_implicit\\_binaryRatingMatrix] 'Recommender for implicit data based on latent factors, calculated by alternating least squares algorithm.'\n",
       "\\item[\\$AR\\_binaryRatingMatrix] 'Recommender based on association rules.'\n",
       "\\item[\\$IBCF\\_binaryRatingMatrix] 'Recommender based on item-based collaborative filtering (binary rating data).'\n",
       "\\item[\\$IBCF\\_realRatingMatrix] 'Recommender based on item-based collaborative filtering.'\n",
       "\\item[\\$LIBMF\\_realRatingMatrix] 'Matrix factorization with LIBMF via package recosystem (https://cran.r-project.org/web/packages/recosystem/vignettes/introduction.html).'\n",
       "\\item[\\$POPULAR\\_binaryRatingMatrix] 'Recommender based on item popularity.'\n",
       "\\item[\\$POPULAR\\_realRatingMatrix] 'Recommender based on item popularity.'\n",
       "\\item[\\$RANDOM\\_realRatingMatrix] 'Produce random recommendations (real ratings).'\n",
       "\\item[\\$RANDOM\\_binaryRatingMatrix] 'Produce random recommendations (binary ratings).'\n",
       "\\item[\\$RERECOMMEND\\_realRatingMatrix] 'Re-recommends highly rated items (real ratings).'\n",
       "\\item[\\$RERECOMMEND\\_binaryRatingMatrix] 'Re-recommends items (binary ratings).'\n",
       "\\item[\\$SVD\\_realRatingMatrix] 'Recommender based on SVD approximation with column-mean imputation.'\n",
       "\\item[\\$SVDF\\_realRatingMatrix] 'Recommender based on Funk SVD with gradient descend (https://sifter.org/\\textasciitilde{}simon/journal/20061211.html).'\n",
       "\\item[\\$UBCF\\_binaryRatingMatrix] 'Recommender based on user-based collaborative filtering.'\n",
       "\\item[\\$UBCF\\_realRatingMatrix] 'Recommender based on user-based collaborative filtering.'\n",
       "\\end{description}\n"
      ],
      "text/markdown": [
       "$HYBRID_realRatingMatrix\n",
       ":   'Hybrid recommender that aggegates several recommendation strategies using weighted averages.'\n",
       "$HYBRID_binaryRatingMatrix\n",
       ":   'Hybrid recommender that aggegates several recommendation strategies using weighted averages.'\n",
       "$ALS_realRatingMatrix\n",
       ":   'Recommender for explicit ratings based on latent factors, calculated by alternating least squares algorithm.'\n",
       "$ALS_implicit_realRatingMatrix\n",
       ":   'Recommender for implicit data based on latent factors, calculated by alternating least squares algorithm.'\n",
       "$ALS_implicit_binaryRatingMatrix\n",
       ":   'Recommender for implicit data based on latent factors, calculated by alternating least squares algorithm.'\n",
       "$AR_binaryRatingMatrix\n",
       ":   'Recommender based on association rules.'\n",
       "$IBCF_binaryRatingMatrix\n",
       ":   'Recommender based on item-based collaborative filtering (binary rating data).'\n",
       "$IBCF_realRatingMatrix\n",
       ":   'Recommender based on item-based collaborative filtering.'\n",
       "$LIBMF_realRatingMatrix\n",
       ":   'Matrix factorization with LIBMF via package recosystem (https://cran.r-project.org/web/packages/recosystem/vignettes/introduction.html).'\n",
       "$POPULAR_binaryRatingMatrix\n",
       ":   'Recommender based on item popularity.'\n",
       "$POPULAR_realRatingMatrix\n",
       ":   'Recommender based on item popularity.'\n",
       "$RANDOM_realRatingMatrix\n",
       ":   'Produce random recommendations (real ratings).'\n",
       "$RANDOM_binaryRatingMatrix\n",
       ":   'Produce random recommendations (binary ratings).'\n",
       "$RERECOMMEND_realRatingMatrix\n",
       ":   'Re-recommends highly rated items (real ratings).'\n",
       "$RERECOMMEND_binaryRatingMatrix\n",
       ":   'Re-recommends items (binary ratings).'\n",
       "$SVD_realRatingMatrix\n",
       ":   'Recommender based on SVD approximation with column-mean imputation.'\n",
       "$SVDF_realRatingMatrix\n",
       ":   'Recommender based on Funk SVD with gradient descend (https://sifter.org/~simon/journal/20061211.html).'\n",
       "$UBCF_binaryRatingMatrix\n",
       ":   'Recommender based on user-based collaborative filtering.'\n",
       "$UBCF_realRatingMatrix\n",
       ":   'Recommender based on user-based collaborative filtering.'\n",
       "\n",
       "\n"
      ],
      "text/plain": [
       "$HYBRID_realRatingMatrix\n",
       "[1] \"Hybrid recommender that aggegates several recommendation strategies using weighted averages.\"\n",
       "\n",
       "$HYBRID_binaryRatingMatrix\n",
       "[1] \"Hybrid recommender that aggegates several recommendation strategies using weighted averages.\"\n",
       "\n",
       "$ALS_realRatingMatrix\n",
       "[1] \"Recommender for explicit ratings based on latent factors, calculated by alternating least squares algorithm.\"\n",
       "\n",
       "$ALS_implicit_realRatingMatrix\n",
       "[1] \"Recommender for implicit data based on latent factors, calculated by alternating least squares algorithm.\"\n",
       "\n",
       "$ALS_implicit_binaryRatingMatrix\n",
       "[1] \"Recommender for implicit data based on latent factors, calculated by alternating least squares algorithm.\"\n",
       "\n",
       "$AR_binaryRatingMatrix\n",
       "[1] \"Recommender based on association rules.\"\n",
       "\n",
       "$IBCF_binaryRatingMatrix\n",
       "[1] \"Recommender based on item-based collaborative filtering (binary rating data).\"\n",
       "\n",
       "$IBCF_realRatingMatrix\n",
       "[1] \"Recommender based on item-based collaborative filtering.\"\n",
       "\n",
       "$LIBMF_realRatingMatrix\n",
       "[1] \"Matrix factorization with LIBMF via package recosystem (https://cran.r-project.org/web/packages/recosystem/vignettes/introduction.html).\"\n",
       "\n",
       "$POPULAR_binaryRatingMatrix\n",
       "[1] \"Recommender based on item popularity.\"\n",
       "\n",
       "$POPULAR_realRatingMatrix\n",
       "[1] \"Recommender based on item popularity.\"\n",
       "\n",
       "$RANDOM_realRatingMatrix\n",
       "[1] \"Produce random recommendations (real ratings).\"\n",
       "\n",
       "$RANDOM_binaryRatingMatrix\n",
       "[1] \"Produce random recommendations (binary ratings).\"\n",
       "\n",
       "$RERECOMMEND_realRatingMatrix\n",
       "[1] \"Re-recommends highly rated items (real ratings).\"\n",
       "\n",
       "$RERECOMMEND_binaryRatingMatrix\n",
       "[1] \"Re-recommends items (binary ratings).\"\n",
       "\n",
       "$SVD_realRatingMatrix\n",
       "[1] \"Recommender based on SVD approximation with column-mean imputation.\"\n",
       "\n",
       "$SVDF_realRatingMatrix\n",
       "[1] \"Recommender based on Funk SVD with gradient descend (https://sifter.org/~simon/journal/20061211.html).\"\n",
       "\n",
       "$UBCF_binaryRatingMatrix\n",
       "[1] \"Recommender based on user-based collaborative filtering.\"\n",
       "\n",
       "$UBCF_realRatingMatrix\n",
       "[1] \"Recommender based on user-based collaborative filtering.\"\n"
      ]
     },
     "metadata": {},
     "output_type": "display_data"
    }
   ],
   "source": [
    "lapply(recommendation_model,\"[[\",\"description\")"
   ]
  },
  {
   "cell_type": "code",
   "execution_count": 53,
   "metadata": {},
   "outputs": [],
   "source": [
    "# we will use item based collaborative filtering"
   ]
  },
  {
   "cell_type": "code",
   "execution_count": 54,
   "metadata": {},
   "outputs": [
    {
     "data": {
      "text/html": [
       "<dl>\n",
       "\t<dt>$k</dt>\n",
       "\t\t<dd>30</dd>\n",
       "\t<dt>$method</dt>\n",
       "\t\t<dd>'Cosine'</dd>\n",
       "\t<dt>$normalize</dt>\n",
       "\t\t<dd>'center'</dd>\n",
       "\t<dt>$normalize_sim_matrix</dt>\n",
       "\t\t<dd>FALSE</dd>\n",
       "\t<dt>$alpha</dt>\n",
       "\t\t<dd>0.5</dd>\n",
       "\t<dt>$na_as_zero</dt>\n",
       "\t\t<dd>FALSE</dd>\n",
       "</dl>\n"
      ],
      "text/latex": [
       "\\begin{description}\n",
       "\\item[\\$k] 30\n",
       "\\item[\\$method] 'Cosine'\n",
       "\\item[\\$normalize] 'center'\n",
       "\\item[\\$normalize\\_sim\\_matrix] FALSE\n",
       "\\item[\\$alpha] 0.5\n",
       "\\item[\\$na\\_as\\_zero] FALSE\n",
       "\\end{description}\n"
      ],
      "text/markdown": [
       "$k\n",
       ":   30\n",
       "$method\n",
       ":   'Cosine'\n",
       "$normalize\n",
       ":   'center'\n",
       "$normalize_sim_matrix\n",
       ":   FALSE\n",
       "$alpha\n",
       ":   0.5\n",
       "$na_as_zero\n",
       ":   FALSE\n",
       "\n",
       "\n"
      ],
      "text/plain": [
       "$k\n",
       "[1] 30\n",
       "\n",
       "$method\n",
       "[1] \"Cosine\"\n",
       "\n",
       "$normalize\n",
       "[1] \"center\"\n",
       "\n",
       "$normalize_sim_matrix\n",
       "[1] FALSE\n",
       "\n",
       "$alpha\n",
       "[1] 0.5\n",
       "\n",
       "$na_as_zero\n",
       "[1] FALSE\n"
      ]
     },
     "metadata": {},
     "output_type": "display_data"
    }
   ],
   "source": [
    "recommendation_model$IBCF_realRatingMatrix$parameters"
   ]
  },
  {
   "cell_type": "code",
   "execution_count": 55,
   "metadata": {},
   "outputs": [],
   "source": [
    "#lets caheck similarity"
   ]
  },
  {
   "cell_type": "code",
   "execution_count": 56,
   "metadata": {},
   "outputs": [
    {
     "data": {
      "text/html": [
       "<table>\n",
       "<thead><tr><th scope=col>1</th><th scope=col>2</th><th scope=col>3</th><th scope=col>4</th></tr></thead>\n",
       "<tbody>\n",
       "\t<tr><td>0.0000000</td><td>0.9760860</td><td>0.9641723</td><td>0.9914398</td></tr>\n",
       "\t<tr><td>0.9760860</td><td>0.0000000</td><td>0.9925732</td><td>0.9374253</td></tr>\n",
       "\t<tr><td>0.9641723</td><td>0.9925732</td><td>0.0000000</td><td>0.9888968</td></tr>\n",
       "\t<tr><td>0.9914398</td><td>0.9374253</td><td>0.9888968</td><td>0.0000000</td></tr>\n",
       "</tbody>\n",
       "</table>\n"
      ],
      "text/latex": [
       "\\begin{tabular}{r|llll}\n",
       " 1 & 2 & 3 & 4\\\\\n",
       "\\hline\n",
       "\t 0.0000000 & 0.9760860 & 0.9641723 & 0.9914398\\\\\n",
       "\t 0.9760860 & 0.0000000 & 0.9925732 & 0.9374253\\\\\n",
       "\t 0.9641723 & 0.9925732 & 0.0000000 & 0.9888968\\\\\n",
       "\t 0.9914398 & 0.9374253 & 0.9888968 & 0.0000000\\\\\n",
       "\\end{tabular}\n"
      ],
      "text/markdown": [
       "\n",
       "| 1 | 2 | 3 | 4 |\n",
       "|---|---|---|---|\n",
       "| 0.0000000 | 0.9760860 | 0.9641723 | 0.9914398 |\n",
       "| 0.9760860 | 0.0000000 | 0.9925732 | 0.9374253 |\n",
       "| 0.9641723 | 0.9925732 | 0.0000000 | 0.9888968 |\n",
       "| 0.9914398 | 0.9374253 | 0.9888968 | 0.0000000 |\n",
       "\n"
      ],
      "text/plain": [
       "  1         2         3         4        \n",
       "1 0.0000000 0.9760860 0.9641723 0.9914398\n",
       "2 0.9760860 0.0000000 0.9925732 0.9374253\n",
       "3 0.9641723 0.9925732 0.0000000 0.9888968\n",
       "4 0.9914398 0.9374253 0.9888968 0.0000000"
      ]
     },
     "metadata": {},
     "output_type": "display_data"
    }
   ],
   "source": [
    "similarity_mat=similarity(ratingMatrix[1:4,],method=\"cosine\",which=\"users\")\n",
    "as.matrix(similarity_mat)\n"
   ]
  },
  {
   "cell_type": "code",
   "execution_count": 57,
   "metadata": {},
   "outputs": [
    {
     "data": {
      "image/png": "[encoded data removed]",
      "text/plain": [
       "Plot with title \"User's similarity\""
      ]
     },
     "metadata": {
      "image/png": {
       "height": 420,
       "width": 420
      }
     },
     "output_type": "display_data"
    }
   ],
   "source": [
    "image(as.matrix(similarity_mat),main=\"User's similarity\")"
   ]
  },
  {
   "cell_type": "code",
   "execution_count": 58,
   "metadata": {},
   "outputs": [
    {
     "data": {
      "text/html": [
       "<table>\n",
       "<thead><tr><th scope=col>1</th><th scope=col>2</th><th scope=col>3</th><th scope=col>4</th></tr></thead>\n",
       "<tbody>\n",
       "\t<tr><td>0.0000000</td><td>0.9669732</td><td>0.9559341</td><td>0.9101276</td></tr>\n",
       "\t<tr><td>0.9669732</td><td>0.0000000</td><td>0.9658757</td><td>0.9412416</td></tr>\n",
       "\t<tr><td>0.9559341</td><td>0.9658757</td><td>0.0000000</td><td>0.9864877</td></tr>\n",
       "\t<tr><td>0.9101276</td><td>0.9412416</td><td>0.9864877</td><td>0.0000000</td></tr>\n",
       "</tbody>\n",
       "</table>\n"
      ],
      "text/latex": [
       "\\begin{tabular}{r|llll}\n",
       " 1 & 2 & 3 & 4\\\\\n",
       "\\hline\n",
       "\t 0.0000000 & 0.9669732 & 0.9559341 & 0.9101276\\\\\n",
       "\t 0.9669732 & 0.0000000 & 0.9658757 & 0.9412416\\\\\n",
       "\t 0.9559341 & 0.9658757 & 0.0000000 & 0.9864877\\\\\n",
       "\t 0.9101276 & 0.9412416 & 0.9864877 & 0.0000000\\\\\n",
       "\\end{tabular}\n"
      ],
      "text/markdown": [
       "\n",
       "| 1 | 2 | 3 | 4 |\n",
       "|---|---|---|---|\n",
       "| 0.0000000 | 0.9669732 | 0.9559341 | 0.9101276 |\n",
       "| 0.9669732 | 0.0000000 | 0.9658757 | 0.9412416 |\n",
       "| 0.9559341 | 0.9658757 | 0.0000000 | 0.9864877 |\n",
       "| 0.9101276 | 0.9412416 | 0.9864877 | 0.0000000 |\n",
       "\n"
      ],
      "text/plain": [
       "  1         2         3         4        \n",
       "1 0.0000000 0.9669732 0.9559341 0.9101276\n",
       "2 0.9669732 0.0000000 0.9658757 0.9412416\n",
       "3 0.9559341 0.9658757 0.0000000 0.9864877\n",
       "4 0.9101276 0.9412416 0.9864877 0.0000000"
      ]
     },
     "metadata": {},
     "output_type": "display_data"
    },
    {
     "data": {
      "image/png": "[encoded data removed]",
      "text/plain": [
       "Plot with title \"movic similariy\""
      ]
     },
     "metadata": {
      "image/png": {
       "height": 420,
       "width": 420
      }
     },
     "output_type": "display_data"
    }
   ],
   "source": [
    "#movic similarity\n",
    "movic_similarity=similarity(ratingMatrix[,1:4],method=\"cosine\",which=\"items\")\n",
    "as.matrix(movic_similarity)\n",
    "image(as.matrix(movic_similarity),main=\"movic similariy\")"
   ]
  },
  {
   "cell_type": "code",
   "execution_count": 62,
   "metadata": {},
   "outputs": [
    {
     "data": {
      "text/html": [
       "<ol class=list-inline>\n",
       "\t<li>0</li>\n",
       "\t<li>5</li>\n",
       "\t<li>4</li>\n",
       "\t<li>3</li>\n",
       "\t<li>4.5</li>\n",
       "\t<li>1.5</li>\n",
       "\t<li>2</li>\n",
       "\t<li>3.5</li>\n",
       "\t<li>1</li>\n",
       "\t<li>2.5</li>\n",
       "\t<li>0.5</li>\n",
       "</ol>\n"
      ],
      "text/latex": [
       "\\begin{enumerate*}\n",
       "\\item 0\n",
       "\\item 5\n",
       "\\item 4\n",
       "\\item 3\n",
       "\\item 4.5\n",
       "\\item 1.5\n",
       "\\item 2\n",
       "\\item 3.5\n",
       "\\item 1\n",
       "\\item 2.5\n",
       "\\item 0.5\n",
       "\\end{enumerate*}\n"
      ],
      "text/markdown": [
       "1. 0\n",
       "2. 5\n",
       "3. 4\n",
       "4. 3\n",
       "5. 4.5\n",
       "6. 1.5\n",
       "7. 2\n",
       "8. 3.5\n",
       "9. 1\n",
       "10. 2.5\n",
       "11. 0.5\n",
       "\n",
       "\n"
      ],
      "text/plain": [
       " [1] 0.0 5.0 4.0 3.0 4.5 1.5 2.0 3.5 1.0 2.5 0.5"
      ]
     },
     "metadata": {},
     "output_type": "display_data"
    },
    {
     "data": {
      "text/plain": [
       "rating_values\n",
       "      0     0.5       1     1.5       2     2.5       3     3.5       4     4.5 \n",
       "6791761    1198    3258    1567    7943    5484   21729   12237   28880    8187 \n",
       "      5 \n",
       "  14856 "
      ]
     },
     "metadata": {},
     "output_type": "display_data"
    }
   ],
   "source": [
    "#rating values\n",
    "rating_values<-as.vector(ratingMatrix@data)\n",
    "unique(rating_values)\n",
    "#how much rating as count if numbers\n",
    "Table_rating=table(rating_values)\n",
    "Table_rating"
   ]
  },
  {
   "cell_type": "code",
   "execution_count": 65,
   "metadata": {},
   "outputs": [],
   "source": [
    "#most viewed movies visualization\n",
    "movie_views<-colCounts(ratingMatrix)#count views for each movic\n",
    "table_views<-data.frame(movie=names(movie_views),views=movie_views)#create dataframe of views\n",
    "table_views<-table_views[order(table_views$views,decreasing=TRUE),]#sort by number of views\n",
    "table_views$title<-NA\n",
    "for(index in 1:10325){\n",
    "    table_views[index,3]<-as.character(subset(movie_data,movie_data$movieId==table_views[index,1])$title)\n",
    "}"
   ]
  },
  {
   "cell_type": "code",
   "execution_count": 66,
   "metadata": {},
   "outputs": [
    {
     "data": {
      "text/html": [
       "<table>\n",
       "<thead><tr><th></th><th scope=col>movie</th><th scope=col>views</th><th scope=col>title</th></tr></thead>\n",
       "<tbody>\n",
       "\t<tr><th scope=row>296</th><td>296                                      </td><td>325                                      </td><td>Pulp Fiction (1994)                      </td></tr>\n",
       "\t<tr><th scope=row>356</th><td>356                                      </td><td>311                                      </td><td>Forrest Gump (1994)                      </td></tr>\n",
       "\t<tr><th scope=row>318</th><td>318                                      </td><td>308                                      </td><td>Shawshank Redemption, The (1994)         </td></tr>\n",
       "\t<tr><th scope=row>480</th><td>480                                      </td><td>294                                      </td><td>Jurassic Park (1993)                     </td></tr>\n",
       "\t<tr><th scope=row>593</th><td>593                                      </td><td>290                                      </td><td>Silence of the Lambs, The (1991)         </td></tr>\n",
       "\t<tr><th scope=row>260</th><td>260                                      </td><td>273                                      </td><td>Star Wars: Episode IV - A New Hope (1977)</td></tr>\n",
       "</tbody>\n",
       "</table>\n"
      ],
      "text/latex": [
       "\\begin{tabular}{r|lll}\n",
       "  & movie & views & title\\\\\n",
       "\\hline\n",
       "\t296 & 296                                       & 325                                       & Pulp Fiction (1994)                      \\\\\n",
       "\t356 & 356                                       & 311                                       & Forrest Gump (1994)                      \\\\\n",
       "\t318 & 318                                       & 308                                       & Shawshank Redemption, The (1994)         \\\\\n",
       "\t480 & 480                                       & 294                                       & Jurassic Park (1993)                     \\\\\n",
       "\t593 & 593                                       & 290                                       & Silence of the Lambs, The (1991)         \\\\\n",
       "\t260 & 260                                       & 273                                       & Star Wars: Episode IV - A New Hope (1977)\\\\\n",
       "\\end{tabular}\n"
      ],
      "text/markdown": [
       "\n",
       "| <!--/--> | movie | views | title |\n",
       "|---|---|---|---|\n",
       "| 296 | 296                                       | 325                                       | Pulp Fiction (1994)                       |\n",
       "| 356 | 356                                       | 311                                       | Forrest Gump (1994)                       |\n",
       "| 318 | 318                                       | 308                                       | Shawshank Redemption, The (1994)          |\n",
       "| 480 | 480                                       | 294                                       | Jurassic Park (1993)                      |\n",
       "| 593 | 593                                       | 290                                       | Silence of the Lambs, The (1991)          |\n",
       "| 260 | 260                                       | 273                                       | Star Wars: Episode IV - A New Hope (1977) |\n",
       "\n"
      ],
      "text/plain": [
       "    movie views title                                    \n",
       "296 296   325   Pulp Fiction (1994)                      \n",
       "356 356   311   Forrest Gump (1994)                      \n",
       "318 318   308   Shawshank Redemption, The (1994)         \n",
       "480 480   294   Jurassic Park (1993)                     \n",
       "593 593   290   Silence of the Lambs, The (1991)         \n",
       "260 260   273   Star Wars: Episode IV - A New Hope (1977)"
      ]
     },
     "metadata": {},
     "output_type": "display_data"
    }
   ],
   "source": [
    "table_views[1:6,]"
   ]
  },
  {
   "cell_type": "code",
   "execution_count": 75,
   "metadata": {},
   "outputs": [
    {
     "data": {
      "image/png": "[encoded data removed]",
      "text/plain": [
       "plot without title"
      ]
     },
     "metadata": {
      "image/png": {
       "height": 420,
       "width": 420
      }
     },
     "output_type": "display_data"
    }
   ],
   "source": [
    "# plotting the data\n",
    "ggplot(table_views[1:6,],aes(x=title,y=views))+geom_bar(stat=\"identity\",fill=\"blue\")+geom_text(aes(label=views),vjust=-0.4,size=5)+theme(axis.text.x=element_text(angle=45,hjust=1))+ggtitle(\"Total Views of the top Films\")\n"
   ]
  },
  {
   "cell_type": "code",
   "execution_count": null,
   "metadata": {},
   "outputs": [],
   "source": [
    "# Heatmap of rating matrix"
   ]
  },
  {
   "cell_type": "code",
   "execution_count": 76,
   "metadata": {},
   "outputs": [
    {
     "data": {
      "image/png": "[encoded data removed]",
      "text/plain": [
       "plot without title"
      ]
     },
     "metadata": {
      "image/png": {
       "height": 420,
       "width": 420
      }
     },
     "output_type": "display_data"
    }
   ],
   "source": [
    "image(ratingMatrix[1:30,1:30],axes=FALSE,main=\"30 x 30 heat map\")"
   ]
  },
  {
   "cell_type": "code",
   "execution_count": null,
   "metadata": {},
   "outputs": [],
   "source": [
    "# lots of sparse data now we will\n",
    "#1.select useful data\n",
    "#2.normalize it\n",
    "#3.binarize it\n",
    "#we have seen the rating dataset. Lets sat at least 50 users needs to rate a movic so then we can say a raing is valid"
   ]
  },
  {
   "cell_type": "code",
   "execution_count": 95,
   "metadata": {},
   "outputs": [],
   "source": [
    "movie_rating<-ratingMatrix[rowCounts(ratingMatrix)>50,colCounts(ratingMatrix)>50]"
   ]
  },
  {
   "cell_type": "code",
   "execution_count": 96,
   "metadata": {},
   "outputs": [
    {
     "data": {
      "image/png": "[encoded data removed]",
      "text/plain": [
       "plot without title"
      ]
     },
     "metadata": {
      "image/png": {
       "height": 420,
       "width": 420
      }
     },
     "output_type": "display_data"
    }
   ],
   "source": [
    "#this is a heat map of top users and movies\n",
    "minimum_movies=quantile(rowCounts(movie_rating),0.98)\n",
    "minimum_users=quantile(colCounts(movie_rating),0.98)\n",
    "image(movie_rating[rowCounts(movie_rating)>minimum_movies,\n",
    "                  colCounts(movie_rating)>minimum_users],main=\"Heat map for top users and movies\")"
   ]
  },
  {
   "cell_type": "code",
   "execution_count": 97,
   "metadata": {},
   "outputs": [],
   "source": [
    "#distribution of average rating per user"
   ]
  },
  {
   "cell_type": "code",
   "execution_count": 98,
   "metadata": {},
   "outputs": [
    {
     "name": "stderr",
     "output_type": "stream",
     "text": [
      "`stat_bin()` using `bins = 30`. Pick better value with `binwidth`.\n",
      "\n"
     ]
    },
    {
     "data": {
      "image/png": "[encoded data removed]",
      "text/plain": [
       "plot without title"
      ]
     },
     "metadata": {
      "image/png": {
       "height": 420,
       "width": 420
      }
     },
     "output_type": "display_data"
    }
   ],
   "source": [
    "average_rating<-rowMeans(movie_rating)\n",
    "qplot(average_rating,fill=I(\"Blue\"),col=I(\"red\"))+ggtitle(\"distribution of avegare rating per user\")"
   ]
  },
  {
   "cell_type": "code",
   "execution_count": 99,
   "metadata": {},
   "outputs": [],
   "source": [
    "#normalize data"
   ]
  },
  {
   "cell_type": "code",
   "execution_count": 100,
   "metadata": {},
   "outputs": [],
   "source": [
    "normalized_rating=normalize(movie_rating)\n"
   ]
  },
  {
   "cell_type": "code",
   "execution_count": 101,
   "metadata": {},
   "outputs": [
    {
     "data": {
      "image/png": "[encoded data removed]",
      "text/plain": [
       "plot without title"
      ]
     },
     "metadata": {
      "image/png": {
       "height": 420,
       "width": 420
      }
     },
     "output_type": "display_data"
    }
   ],
   "source": [
    "image(normalized_rating[rowCounts(normalized_rating)>minimum_movies,\n",
    "                       colCounts(normalized_rating)>minimum_users],main=\"Normalized rating for top users\")"
   ]
  },
  {
   "cell_type": "code",
   "execution_count": null,
   "metadata": {},
   "outputs": [],
   "source": [
    "#binary means 0 and 1 we will recomend if rating is more than 3.5"
   ]
  },
  {
   "cell_type": "code",
   "execution_count": 103,
   "metadata": {},
   "outputs": [
    {
     "data": {
      "image/png": "[encoded data removed]",
      "text/plain": [
       "plot without title"
      ]
     },
     "metadata": {
      "image/png": {
       "height": 420,
       "width": 420
      }
     },
     "output_type": "display_data"
    }
   ],
   "source": [
    "binary_minimum_movies<-quantile(rowCounts(movie_rating),0.90)\n",
    "binary_minimum_users<-quantile(colCounts(movie_rating),0.90)\n",
    "movies_watched<-binarize(movie_rating,minRating=1)\n",
    "good_rated_films<-binarize(movie_rating,minRating=3.5)\n",
    "image(good_rated_films[rowCounts(movie_rating)>binary_minimum_movies,\n",
    "                colCounts(movie_rating)>binary_minimum_users],main=\"Hit map for top users and films\")"
   ]
  },
  {
   "cell_type": "markdown",
   "metadata": {},
   "source": [
    "# collaborative filtering system"
   ]
  },
  {
   "cell_type": "code",
   "execution_count": 105,
   "metadata": {},
   "outputs": [],
   "source": [
    "sample_data<-sample(x=c(TRUE,FALSE),size=nrow(movie_rating),replace=TRUE,prob=c(0.8,0.2))\n",
    "training_data=movie_rating[sample_data,]\n",
    "testing_data=movie_rating[!sample_data,]"
   ]
  },
  {
   "cell_type": "markdown",
   "metadata": {},
   "source": [
    "# recommendation system"
   ]
  },
  {
   "cell_type": "code",
   "execution_count": 106,
   "metadata": {},
   "outputs": [
    {
     "data": {
      "text/html": [
       "<dl>\n",
       "\t<dt>$k</dt>\n",
       "\t\t<dd>30</dd>\n",
       "\t<dt>$method</dt>\n",
       "\t\t<dd>'Cosine'</dd>\n",
       "\t<dt>$normalize</dt>\n",
       "\t\t<dd>'center'</dd>\n",
       "\t<dt>$normalize_sim_matrix</dt>\n",
       "\t\t<dd>FALSE</dd>\n",
       "\t<dt>$alpha</dt>\n",
       "\t\t<dd>0.5</dd>\n",
       "\t<dt>$na_as_zero</dt>\n",
       "\t\t<dd>FALSE</dd>\n",
       "</dl>\n"
      ],
      "text/latex": [
       "\\begin{description}\n",
       "\\item[\\$k] 30\n",
       "\\item[\\$method] 'Cosine'\n",
       "\\item[\\$normalize] 'center'\n",
       "\\item[\\$normalize\\_sim\\_matrix] FALSE\n",
       "\\item[\\$alpha] 0.5\n",
       "\\item[\\$na\\_as\\_zero] FALSE\n",
       "\\end{description}\n"
      ],
      "text/markdown": [
       "$k\n",
       ":   30\n",
       "$method\n",
       ":   'Cosine'\n",
       "$normalize\n",
       ":   'center'\n",
       "$normalize_sim_matrix\n",
       ":   FALSE\n",
       "$alpha\n",
       ":   0.5\n",
       "$na_as_zero\n",
       ":   FALSE\n",
       "\n",
       "\n"
      ],
      "text/plain": [
       "$k\n",
       "[1] 30\n",
       "\n",
       "$method\n",
       "[1] \"Cosine\"\n",
       "\n",
       "$normalize\n",
       "[1] \"center\"\n",
       "\n",
       "$normalize_sim_matrix\n",
       "[1] FALSE\n",
       "\n",
       "$alpha\n",
       "[1] 0.5\n",
       "\n",
       "$na_as_zero\n",
       "[1] FALSE\n"
      ]
     },
     "metadata": {},
     "output_type": "display_data"
    }
   ],
   "source": [
    "recommendation_system<-recommenderRegistry$get_entries(datatype=\"realRatingMatrix\")\n",
    "recommendation_system$IBCF_realRatingMatrix$parameters"
   ]
  },
  {
   "cell_type": "code",
   "execution_count": 107,
   "metadata": {},
   "outputs": [
    {
     "data": {
      "text/plain": [
       "Recommender of type 'IBCF' for 'realRatingMatrix' \n",
       "learned using 341 users."
      ]
     },
     "metadata": {},
     "output_type": "display_data"
    }
   ],
   "source": [
    "recommen_model=Recommender(data=training_data,method=\"IBCF\",parameter=list(k=30))\n",
    "recommen_model"
   ]
  },
  {
   "cell_type": "code",
   "execution_count": 108,
   "metadata": {},
   "outputs": [
    {
     "data": {
      "text/html": [
       "'Recommender'"
      ],
      "text/latex": [
       "'Recommender'"
      ],
      "text/markdown": [
       "'Recommender'"
      ],
      "text/plain": [
       "[1] \"Recommender\"\n",
       "attr(,\"package\")\n",
       "[1] \"recommenderlab\""
      ]
     },
     "metadata": {},
     "output_type": "display_data"
    }
   ],
   "source": [
    "class(recommen_model)"
   ]
  },
  {
   "cell_type": "code",
   "execution_count": 114,
   "metadata": {},
   "outputs": [
    {
     "data": {
      "image/png": "[encoded data removed]",
      "text/plain": [
       "plot without title"
      ]
     },
     "metadata": {
      "image/png": {
       "height": 420,
       "width": 420
      }
     },
     "output_type": "display_data"
    }
   ],
   "source": [
    "info=getModel(recommen_model)\n",
    "top_items=20\n",
    "image(info$sim[1:top_items,1:top_items],main=\"Heat map for firt row and column\")"
   ]
  },
  {
   "cell_type": "code",
   "execution_count": 116,
   "metadata": {},
   "outputs": [
    {
     "data": {
      "text/plain": [
       "sum_rows\n",
       " 30 \n",
       "447 "
      ]
     },
     "metadata": {},
     "output_type": "display_data"
    },
    {
     "name": "stderr",
     "output_type": "stream",
     "text": [
      "`stat_bin()` using `bins = 30`. Pick better value with `binwidth`.\n",
      "\n"
     ]
    },
    {
     "data": {
      "image/png": "[encoded data removed]",
      "text/plain": [
       "plot without title"
      ]
     },
     "metadata": {
      "image/png": {
       "height": 420,
       "width": 420
      }
     },
     "output_type": "display_data"
    }
   ],
   "source": [
    "#we will carery out the sum of rows and columns with the similarity of the objects above 0\n",
    "sum_rows=rowSums(info$sim>0)\n",
    "table(sum_rows)\n",
    "sum_cols=colSums(info$sim>0)\n",
    "qplot(sum_cols,fill=I(\"blue\"),col=I(\"red\"))+ggtitle(\"distribution of column count\")"
   ]
  },
  {
   "cell_type": "code",
   "execution_count": null,
   "metadata": {},
   "outputs": [],
   "source": [
    "# Now lets recommend"
   ]
  },
  {
   "cell_type": "code",
   "execution_count": 126,
   "metadata": {},
   "outputs": [
    {
     "data": {
      "text/plain": [
       "Recommendations as 'topNList' with n = 10 for 79 users. "
      ]
     },
     "metadata": {},
     "output_type": "display_data"
    }
   ],
   "source": [
    "top_recommendations<-10 #the number of items to recommend each user\n",
    "predicted_recommendations<-predict(object=recommen_model,newdata=testing_data,n=top_recommendations)\n",
    "predicted_recommendations"
   ]
  },
  {
   "cell_type": "code",
   "execution_count": 127,
   "metadata": {},
   "outputs": [],
   "source": [
    "#lets see some of the names"
   ]
  },
  {
   "cell_type": "code",
   "execution_count": 128,
   "metadata": {},
   "outputs": [
    {
     "data": {
      "text/html": [
       "<ol class=list-inline>\n",
       "\t<li>'Leaving Las Vegas (1995)'</li>\n",
       "\t<li>'Wallace &amp; Gromit: The Wrong Trousers (1993)'</li>\n",
       "\t<li>'Army of Darkness (1993)'</li>\n",
       "\t<li>'Wizard of Oz, The (1939)'</li>\n",
       "\t<li>'City Slickers II: The Legend of Curly\\'s Gold (1994)'</li>\n",
       "\t<li>'Blair Witch Project, The (1999)'</li>\n",
       "\t<li>'Dr. Strangelove or: How I Learned to Stop Worrying and Love the Bomb (1964)'</li>\n",
       "\t<li>'Deer Hunter, The (1978)'</li>\n",
       "\t<li>'Airplane! (1980)'</li>\n",
       "\t<li>'Waterworld (1995)'</li>\n",
       "</ol>\n"
      ],
      "text/latex": [
       "\\begin{enumerate*}\n",
       "\\item 'Leaving Las Vegas (1995)'\n",
       "\\item 'Wallace \\& Gromit: The Wrong Trousers (1993)'\n",
       "\\item 'Army of Darkness (1993)'\n",
       "\\item 'Wizard of Oz, The (1939)'\n",
       "\\item 'City Slickers II: The Legend of Curly\\textbackslash{}'s Gold (1994)'\n",
       "\\item 'Blair Witch Project, The (1999)'\n",
       "\\item 'Dr. Strangelove or: How I Learned to Stop Worrying and Love the Bomb (1964)'\n",
       "\\item 'Deer Hunter, The (1978)'\n",
       "\\item 'Airplane! (1980)'\n",
       "\\item 'Waterworld (1995)'\n",
       "\\end{enumerate*}\n"
      ],
      "text/markdown": [
       "1. 'Leaving Las Vegas (1995)'\n",
       "2. 'Wallace &amp; Gromit: The Wrong Trousers (1993)'\n",
       "3. 'Army of Darkness (1993)'\n",
       "4. 'Wizard of Oz, The (1939)'\n",
       "5. 'City Slickers II: The Legend of Curly\\'s Gold (1994)'\n",
       "6. 'Blair Witch Project, The (1999)'\n",
       "7. 'Dr. Strangelove or: How I Learned to Stop Worrying and Love the Bomb (1964)'\n",
       "8. 'Deer Hunter, The (1978)'\n",
       "9. 'Airplane! (1980)'\n",
       "10. 'Waterworld (1995)'\n",
       "\n",
       "\n"
      ],
      "text/plain": [
       " [1] \"Leaving Las Vegas (1995)\"                                                   \n",
       " [2] \"Wallace & Gromit: The Wrong Trousers (1993)\"                                \n",
       " [3] \"Army of Darkness (1993)\"                                                    \n",
       " [4] \"Wizard of Oz, The (1939)\"                                                   \n",
       " [5] \"City Slickers II: The Legend of Curly's Gold (1994)\"                        \n",
       " [6] \"Blair Witch Project, The (1999)\"                                            \n",
       " [7] \"Dr. Strangelove or: How I Learned to Stop Worrying and Love the Bomb (1964)\"\n",
       " [8] \"Deer Hunter, The (1978)\"                                                    \n",
       " [9] \"Airplane! (1980)\"                                                           \n",
       "[10] \"Waterworld (1995)\"                                                          "
      ]
     },
     "metadata": {},
     "output_type": "display_data"
    }
   ],
   "source": [
    "user1<-predicted_recommendations@items[[1]] #recommendation for first user\n",
    "movies_user1=predicted_recommendations@itemLabels[user1]\n",
    "for(index in 1:10)\n",
    "    {\n",
    "        movies_user1[index]<-as.character(subset(movie_data,movie_data$movieId==movies_user1[index])$title)\n",
    "    }\n",
    "movies_user1"
   ]
  },
  {
   "cell_type": "markdown",
   "metadata": {},
   "source": [
    "# RECOMMENDATION MATRIX"
   ]
  },
  {
   "cell_type": "code",
   "execution_count": 133,
   "metadata": {},
   "outputs": [
    {
     "data": {
      "text/html": [
       "<table>\n",
       "<tbody>\n",
       "\t<tr><td>  25</td><td>  1 </td><td>  5 </td><td> 434</td></tr>\n",
       "\t<tr><td>1148</td><td>  5 </td><td>141 </td><td> 969</td></tr>\n",
       "\t<tr><td>1215</td><td>  6 </td><td>236 </td><td>2947</td></tr>\n",
       "\t<tr><td> 919</td><td> 16 </td><td>288 </td><td>1729</td></tr>\n",
       "\t<tr><td> 432</td><td> 34 </td><td>300 </td><td>2599</td></tr>\n",
       "\t<tr><td>2710</td><td> 39 </td><td>316 </td><td>2294</td></tr>\n",
       "\t<tr><td> 750</td><td> 48 </td><td>357 </td><td>3751</td></tr>\n",
       "\t<tr><td>1263</td><td>185 </td><td>432 </td><td>1148</td></tr>\n",
       "\t<tr><td>2791</td><td>261 </td><td>442 </td><td>3255</td></tr>\n",
       "\t<tr><td> 208</td><td>337 </td><td>509 </td><td> 235</td></tr>\n",
       "</tbody>\n",
       "</table>\n"
      ],
      "text/latex": [
       "\\begin{tabular}{llll}\n",
       "\t   25 &   1  &   5  &  434\\\\\n",
       "\t 1148 &   5  & 141  &  969\\\\\n",
       "\t 1215 &   6  & 236  & 2947\\\\\n",
       "\t  919 &  16  & 288  & 1729\\\\\n",
       "\t  432 &  34  & 300  & 2599\\\\\n",
       "\t 2710 &  39  & 316  & 2294\\\\\n",
       "\t  750 &  48  & 357  & 3751\\\\\n",
       "\t 1263 & 185  & 432  & 1148\\\\\n",
       "\t 2791 & 261  & 442  & 3255\\\\\n",
       "\t  208 & 337  & 509  &  235\\\\\n",
       "\\end{tabular}\n"
      ],
      "text/markdown": [
       "\n",
       "|   25 |   1  |   5  |  434 |\n",
       "| 1148 |   5  | 141  |  969 |\n",
       "| 1215 |   6  | 236  | 2947 |\n",
       "|  919 |  16  | 288  | 1729 |\n",
       "|  432 |  34  | 300  | 2599 |\n",
       "| 2710 |  39  | 316  | 2294 |\n",
       "|  750 |  48  | 357  | 3751 |\n",
       "| 1263 | 185  | 432  | 1148 |\n",
       "| 2791 | 261  | 442  | 3255 |\n",
       "|  208 | 337  | 509  |  235 |\n",
       "\n"
      ],
      "text/plain": [
       "      [,1] [,2] [,3] [,4]\n",
       " [1,]   25   1    5   434\n",
       " [2,] 1148   5  141   969\n",
       " [3,] 1215   6  236  2947\n",
       " [4,]  919  16  288  1729\n",
       " [5,]  432  34  300  2599\n",
       " [6,] 2710  39  316  2294\n",
       " [7,]  750  48  357  3751\n",
       " [8,] 1263 185  432  1148\n",
       " [9,] 2791 261  442  3255\n",
       "[10,]  208 337  509   235"
      ]
     },
     "metadata": {},
     "output_type": "display_data"
    }
   ],
   "source": [
    "recommendation_matrix=sapply(predicted_recommendations@items,function(x){as.integer(colnames(movie_rating)[x])})\n",
    "# matrix with the recommendation for each user\n",
    "recommendation_matrix[,1:4]"
   ]
  },
  {
   "cell_type": "code",
   "execution_count": 135,
   "metadata": {},
   "outputs": [
    {
     "data": {
      "text/html": [
       "<table>\n",
       "<thead><tr><th scope=col>X1</th><th scope=col>X2</th><th scope=col>X3</th><th scope=col>X4</th><th scope=col>X5</th><th scope=col>X6</th><th scope=col>X7</th><th scope=col>X8</th><th scope=col>X9</th><th scope=col>X10</th><th scope=col>...</th><th scope=col>X70</th><th scope=col>X71</th><th scope=col>X72</th><th scope=col>X73</th><th scope=col>X74</th><th scope=col>X75</th><th scope=col>X76</th><th scope=col>X77</th><th scope=col>X78</th><th scope=col>X79</th></tr></thead>\n",
       "<tbody>\n",
       "\t<tr><td>  25 </td><td>  1  </td><td>  5  </td><td> 434 </td><td>  21 </td><td> 19  </td><td> 1262</td><td>2797 </td><td>2080 </td><td> 150 </td><td>...  </td><td> 153 </td><td> 223 </td><td> 1242</td><td> 158 </td><td>  494</td><td> 543 </td><td>2987 </td><td>  47 </td><td> 10  </td><td>  3  </td></tr>\n",
       "\t<tr><td>1148 </td><td>  5  </td><td>141  </td><td> 969 </td><td> 551 </td><td> 21  </td><td> 2692</td><td> 435 </td><td> 661 </td><td> 163 </td><td>...  </td><td> 165 </td><td>1320 </td><td> 1721</td><td> 266 </td><td> 1285</td><td>6016 </td><td> 265 </td><td> 141 </td><td> 32  </td><td>  5  </td></tr>\n",
       "\t<tr><td>1215 </td><td>  6  </td><td>236  </td><td>2947 </td><td>5010 </td><td>112  </td><td> 3471</td><td>2268 </td><td>1127 </td><td> 364 </td><td>...  </td><td>3448 </td><td>2395 </td><td> 2011</td><td> 288 </td><td> 1517</td><td>6365 </td><td>3176 </td><td> 485 </td><td> 36  </td><td> 44  </td></tr>\n",
       "\t<tr><td> 919 </td><td> 16  </td><td>288  </td><td>1729 </td><td> 586 </td><td>151  </td><td> 3671</td><td> 539 </td><td>1339 </td><td>1500 </td><td>...  </td><td> 653 </td><td>3255 </td><td> 3176</td><td> 552 </td><td> 1721</td><td>1552 </td><td>   5 </td><td> 541 </td><td> 62  </td><td> 50  </td></tr>\n",
       "\t<tr><td> 432 </td><td> 34  </td><td>300  </td><td>2599 </td><td>2804 </td><td>158  </td><td> 4993</td><td>4022 </td><td> 261 </td><td>1674 </td><td>...  </td><td>4720 </td><td>7143 </td><td> 5952</td><td> 589 </td><td> 2701</td><td>1265 </td><td>4011 </td><td> 551 </td><td>231  </td><td>163  </td></tr>\n",
       "\t<tr><td>2710 </td><td> 39  </td><td>316  </td><td>2294 </td><td>2424 </td><td>165  </td><td>69122</td><td> 802 </td><td>3176 </td><td>2011 </td><td>...  </td><td> 485 </td><td>1249 </td><td> 7153</td><td>1219 </td><td>48394</td><td>8636 </td><td>1584 </td><td> 553 </td><td>261  </td><td>168  </td></tr>\n",
       "\t<tr><td> 750 </td><td> 48  </td><td>357  </td><td>3751 </td><td> 494 </td><td>208  </td><td>  293</td><td> 497 </td><td>1517 </td><td>2291 </td><td>...  </td><td> 435 </td><td>5378 </td><td> 8368</td><td>1258 </td><td>   48</td><td>3948 </td><td>2985 </td><td> 588 </td><td>265  </td><td>172  </td></tr>\n",
       "\t<tr><td>1263 </td><td>185  </td><td>432  </td><td>1148 </td><td>3033 </td><td>231  </td><td>  158</td><td>1676 </td><td>1639 </td><td>2985 </td><td>...  </td><td> 555 </td><td>2542 </td><td>59315</td><td>1282 </td><td>  648</td><td>1544 </td><td>1923 </td><td>1047 </td><td>266  </td><td>329  </td></tr>\n",
       "\t<tr><td>2791 </td><td>261  </td><td>442  </td><td>3255 </td><td>2761 </td><td>292  </td><td> 1282</td><td>2001 </td><td>  34 </td><td>3481 </td><td>...  </td><td>1214 </td><td> 969 </td><td> 1028</td><td>1356 </td><td>  508</td><td>   5 </td><td>2572 </td><td>1343 </td><td>316  </td><td>349  </td></tr>\n",
       "\t<tr><td> 208 </td><td>337  </td><td>509  </td><td> 235 </td><td>1396 </td><td>293  </td><td> 6711</td><td> 786 </td><td> 440 </td><td>6539 </td><td>...  </td><td>2115 </td><td>1247 </td><td>  596</td><td>1387 </td><td> 1201</td><td> 474 </td><td> 153 </td><td>1375 </td><td>337  </td><td>353  </td></tr>\n",
       "</tbody>\n",
       "</table>\n"
      ],
      "text/latex": [
       "\\begin{tabular}{r|lllllllllllllllllllllllllllllllllllllllllllllllllllllllllllllllllllllllllllllll}\n",
       " X1 & X2 & X3 & X4 & X5 & X6 & X7 & X8 & X9 & X10 & ... & X70 & X71 & X72 & X73 & X74 & X75 & X76 & X77 & X78 & X79\\\\\n",
       "\\hline\n",
       "\t   25  &   1   &   5   &  434  &   21  &  19   &  1262 & 2797  & 2080  &  150  & ...   &  153  &  223  &  1242 &  158  &   494 &  543  & 2987  &   47  &  10   &   3  \\\\\n",
       "\t 1148  &   5   & 141   &  969  &  551  &  21   &  2692 &  435  &  661  &  163  & ...   &  165  & 1320  &  1721 &  266  &  1285 & 6016  &  265  &  141  &  32   &   5  \\\\\n",
       "\t 1215  &   6   & 236   & 2947  & 5010  & 112   &  3471 & 2268  & 1127  &  364  & ...   & 3448  & 2395  &  2011 &  288  &  1517 & 6365  & 3176  &  485  &  36   &  44  \\\\\n",
       "\t  919  &  16   & 288   & 1729  &  586  & 151   &  3671 &  539  & 1339  & 1500  & ...   &  653  & 3255  &  3176 &  552  &  1721 & 1552  &    5  &  541  &  62   &  50  \\\\\n",
       "\t  432  &  34   & 300   & 2599  & 2804  & 158   &  4993 & 4022  &  261  & 1674  & ...   & 4720  & 7143  &  5952 &  589  &  2701 & 1265  & 4011  &  551  & 231   & 163  \\\\\n",
       "\t 2710  &  39   & 316   & 2294  & 2424  & 165   & 69122 &  802  & 3176  & 2011  & ...   &  485  & 1249  &  7153 & 1219  & 48394 & 8636  & 1584  &  553  & 261   & 168  \\\\\n",
       "\t  750  &  48   & 357   & 3751  &  494  & 208   &   293 &  497  & 1517  & 2291  & ...   &  435  & 5378  &  8368 & 1258  &    48 & 3948  & 2985  &  588  & 265   & 172  \\\\\n",
       "\t 1263  & 185   & 432   & 1148  & 3033  & 231   &   158 & 1676  & 1639  & 2985  & ...   &  555  & 2542  & 59315 & 1282  &   648 & 1544  & 1923  & 1047  & 266   & 329  \\\\\n",
       "\t 2791  & 261   & 442   & 3255  & 2761  & 292   &  1282 & 2001  &   34  & 3481  & ...   & 1214  &  969  &  1028 & 1356  &   508 &    5  & 2572  & 1343  & 316   & 349  \\\\\n",
       "\t  208  & 337   & 509   &  235  & 1396  & 293   &  6711 &  786  &  440  & 6539  & ...   & 2115  & 1247  &   596 & 1387  &  1201 &  474  &  153  & 1375  & 337   & 353  \\\\\n",
       "\\end{tabular}\n"
      ],
      "text/markdown": [
       "\n",
       "| X1 | X2 | X3 | X4 | X5 | X6 | X7 | X8 | X9 | X10 | ... | X70 | X71 | X72 | X73 | X74 | X75 | X76 | X77 | X78 | X79 |\n",
       "|---|---|---|---|---|---|---|---|---|---|---|---|---|---|---|---|---|---|---|---|---|\n",
       "|   25  |   1   |   5   |  434  |   21  |  19   |  1262 | 2797  | 2080  |  150  | ...   |  153  |  223  |  1242 |  158  |   494 |  543  | 2987  |   47  |  10   |   3   |\n",
       "| 1148  |   5   | 141   |  969  |  551  |  21   |  2692 |  435  |  661  |  163  | ...   |  165  | 1320  |  1721 |  266  |  1285 | 6016  |  265  |  141  |  32   |   5   |\n",
       "| 1215  |   6   | 236   | 2947  | 5010  | 112   |  3471 | 2268  | 1127  |  364  | ...   | 3448  | 2395  |  2011 |  288  |  1517 | 6365  | 3176  |  485  |  36   |  44   |\n",
       "|  919  |  16   | 288   | 1729  |  586  | 151   |  3671 |  539  | 1339  | 1500  | ...   |  653  | 3255  |  3176 |  552  |  1721 | 1552  |    5  |  541  |  62   |  50   |\n",
       "|  432  |  34   | 300   | 2599  | 2804  | 158   |  4993 | 4022  |  261  | 1674  | ...   | 4720  | 7143  |  5952 |  589  |  2701 | 1265  | 4011  |  551  | 231   | 163   |\n",
       "| 2710  |  39   | 316   | 2294  | 2424  | 165   | 69122 |  802  | 3176  | 2011  | ...   |  485  | 1249  |  7153 | 1219  | 48394 | 8636  | 1584  |  553  | 261   | 168   |\n",
       "|  750  |  48   | 357   | 3751  |  494  | 208   |   293 |  497  | 1517  | 2291  | ...   |  435  | 5378  |  8368 | 1258  |    48 | 3948  | 2985  |  588  | 265   | 172   |\n",
       "| 1263  | 185   | 432   | 1148  | 3033  | 231   |   158 | 1676  | 1639  | 2985  | ...   |  555  | 2542  | 59315 | 1282  |   648 | 1544  | 1923  | 1047  | 266   | 329   |\n",
       "| 2791  | 261   | 442   | 3255  | 2761  | 292   |  1282 | 2001  |   34  | 3481  | ...   | 1214  |  969  |  1028 | 1356  |   508 |    5  | 2572  | 1343  | 316   | 349   |\n",
       "|  208  | 337   | 509   |  235  | 1396  | 293   |  6711 |  786  |  440  | 6539  | ...   | 2115  | 1247  |   596 | 1387  |  1201 |  474  |  153  | 1375  | 337   | 353   |\n",
       "\n"
      ],
      "text/plain": [
       "   X1   X2  X3  X4   X5   X6  X7    X8   X9   X10  ... X70  X71  X72   X73 \n",
       "1    25   1   5  434   21  19  1262 2797 2080  150 ...  153  223  1242  158\n",
       "2  1148   5 141  969  551  21  2692  435  661  163 ...  165 1320  1721  266\n",
       "3  1215   6 236 2947 5010 112  3471 2268 1127  364 ... 3448 2395  2011  288\n",
       "4   919  16 288 1729  586 151  3671  539 1339 1500 ...  653 3255  3176  552\n",
       "5   432  34 300 2599 2804 158  4993 4022  261 1674 ... 4720 7143  5952  589\n",
       "6  2710  39 316 2294 2424 165 69122  802 3176 2011 ...  485 1249  7153 1219\n",
       "7   750  48 357 3751  494 208   293  497 1517 2291 ...  435 5378  8368 1258\n",
       "8  1263 185 432 1148 3033 231   158 1676 1639 2985 ...  555 2542 59315 1282\n",
       "9  2791 261 442 3255 2761 292  1282 2001   34 3481 ... 1214  969  1028 1356\n",
       "10  208 337 509  235 1396 293  6711  786  440 6539 ... 2115 1247   596 1387\n",
       "   X74   X75  X76  X77  X78 X79\n",
       "1    494  543 2987   47  10   3\n",
       "2   1285 6016  265  141  32   5\n",
       "3   1517 6365 3176  485  36  44\n",
       "4   1721 1552    5  541  62  50\n",
       "5   2701 1265 4011  551 231 163\n",
       "6  48394 8636 1584  553 261 168\n",
       "7     48 3948 2985  588 265 172\n",
       "8    648 1544 1923 1047 266 329\n",
       "9    508    5 2572 1343 316 349\n",
       "10  1201  474  153 1375 337 353"
      ]
     },
     "metadata": {},
     "output_type": "display_data"
    }
   ],
   "source": [
    "data.frame(recommendation_matrix[]) #X79 here all 79 users"
   ]
  },
  {
   "cell_type": "code",
   "execution_count": null,
   "metadata": {},
   "outputs": [],
   "source": []
  }
 ],
 "metadata": {
  "kernelspec": {
   "display_name": "R",
   "language": "R",
   "name": "ir"
  },
  "language_info": {
   "codemirror_mode": "r",
   "file_extension": ".r",
   "mimetype": "text/x-r-source",
   "name": "R",
   "pygments_lexer": "r",
   "version": "3.6.1"
  }
 },
 "nbformat": 4,
 "nbformat_minor": 4
}
